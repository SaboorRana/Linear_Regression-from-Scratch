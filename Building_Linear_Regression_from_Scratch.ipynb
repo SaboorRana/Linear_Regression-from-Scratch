{
  "cells": [
    {
      "cell_type": "code",
      "execution_count": null,
      "metadata": {
        "id": "EGZ2zTOU4Zhi"
      },
      "outputs": [],
      "source": [
        "# Dependency: Import numpy library\n",
        "import numpy as np  \n",
        "\n",
        "class Linear_Regression:  # Linear Regression class\n",
        "\n",
        "  # Initializes learning rate and number of iterations\n",
        "  def __init__(self, learning_rate, no_of_iterations):  \n",
        "    self.learning_rate = learning_rate  \n",
        "    self.no_of_iterations = no_of_iterations  \n",
        "\n",
        "  # Trains the model using the provided data\n",
        "  def fit(self, X, Y):  \n",
        "    self.m, self.n = X.shape  \n",
        "    self.w = np.zeros(self.n)  \n",
        "    self.b = 0  \n",
        "    self.X = X  \n",
        "    self.Y = Y  \n",
        "\n",
        "    for i in range(self.no_of_iterations):  \n",
        "      self.update_weights()  \n",
        "\n",
        "  # Updates weights and bias based on the gradient descent algorithm\n",
        "  def update_weights(self):  \n",
        "    Y_prediction = self.predict(self.X)  \n",
        "    dw = -(2 * (self.X.T).dot(self.Y - Y_prediction)) / self.m  \n",
        "    db = -2 * np.sum(self.Y - Y_prediction) / self.m  \n",
        "    self.w = self.w - self.learning_rate * dw  \n",
        "    self.b = self.b - self.learning_rate * db  \n",
        "\n",
        "  # Predicts the output for a given input\n",
        "  def predict(self, X):  \n",
        "    return X.dot(self.w) + self.b  \n",
        "\n",
        "\n"
      ]
    },
    {
      "cell_type": "code",
      "execution_count": null,
      "metadata": {
        "id": "1sswVOsiARWX"
      },
      "outputs": [],
      "source": []
    }
  ],
  "metadata": {
    "colab": {
      "provenance": []
    },
    "kernelspec": {
      "display_name": "Python 3",
      "name": "python3"
    },
    "language_info": {
      "name": "python"
    }
  },
  "nbformat": 4,
  "nbformat_minor": 0
}
